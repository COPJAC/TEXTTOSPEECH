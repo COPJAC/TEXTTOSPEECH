{
 "cells": [
  {
   "cell_type": "code",
   "execution_count": 1,
   "metadata": {},
   "outputs": [],
   "source": [
    "import pyttsx3\n",
    "\n",
    "# Initialize the pyttsx3 engine\n",
    "engine = pyttsx3.init()\n",
    "\n",
    "# Get text input from user\n",
    "text = input(\"Enter the text you want to hear: \")\n",
    "\n",
    "# Set the text to be spoken\n",
    "engine.say(text)\n",
    "\n",
    "# Run the engine to speak the text\n",
    "engine.runAndWait()\n"
   ]
  }
 ],
 "metadata": {
  "kernelspec": {
   "display_name": "Python 3",
   "language": "python",
   "name": "python3"
  },
  "language_info": {
   "codemirror_mode": {
    "name": "ipython",
    "version": 3
   },
   "file_extension": ".py",
   "mimetype": "text/x-python",
   "name": "python",
   "nbconvert_exporter": "python",
   "pygments_lexer": "ipython3",
   "version": "3.11.9"
  }
 },
 "nbformat": 4,
 "nbformat_minor": 2
}
